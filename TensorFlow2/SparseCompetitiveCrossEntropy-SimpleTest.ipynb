{
 "cells": [
  {
   "cell_type": "markdown",
   "metadata": {},
   "source": [
    "## <font color='green'> <div align=\"center\">In the name of God </div></font>"
   ]
  },
  {
   "cell_type": "markdown",
   "metadata": {},
   "source": [
    "### <font color='red'> Author: Sayed Kamaledin Ghiasi-Shrirazi <a href=\"http://profsite.um.ac.ir/~k.ghiasi\">(http://profsite.um.ac.ir/~k.ghiasi)</a> </font>"
   ]
  },
  {
   "cell_type": "markdown",
   "metadata": {},
   "source": [
    "# Simple test for SparseCompetitiveCrossEntropy"
   ]
  },
  {
   "cell_type": "markdown",
   "metadata": {},
   "source": [
    "##### Importing general modules."
   ]
  },
  {
   "cell_type": "code",
   "execution_count": 1,
   "metadata": {},
   "outputs": [],
   "source": [
    "import tensorflow as tf\n",
    "import tensorflow_datasets as tfds\n",
    "import numpy as np"
   ]
  },
  {
   "cell_type": "markdown",
   "metadata": {},
   "source": [
    "##### Importing modules wtitten by the author"
   ]
  },
  {
   "cell_type": "code",
   "execution_count": 2,
   "metadata": {},
   "outputs": [],
   "source": [
    "from SparseCompetitiveCrossEntropy import SparseCompetitiveCrossentropy\n",
    "from SparseCompetitiveCrossEntropy import MultiprototypeSparseCategoricalAccuracy"
   ]
  },
  {
   "cell_type": "markdown",
   "metadata": {},
   "source": [
    "#### Simple test"
   ]
  },
  {
   "cell_type": "code",
   "execution_count": 8,
   "metadata": {},
   "outputs": [
    {
     "name": "stdout",
     "output_type": "stream",
     "text": [
      "3.668743848800659\n"
     ]
    }
   ],
   "source": [
    "y_true_label = [0]\n",
    "y_pred = np.array([[0.02, 0.03, 0.55, 0.40, 0, 0]])\n",
    "# We take logarithm of y_pred since CategoricalCompetitiveCrossentropy only works with logits\n",
    "y_pred = np.log(y_pred + 0.000000000001)\n",
    "scce = SparseCompetitiveCrossentropy(C=3, K=2)\n",
    "print (scce(y_true_label, y_pred).numpy())"
   ]
  },
  {
   "cell_type": "markdown",
   "metadata": {},
   "source": [
    "#### What was expected?"
   ]
  },
  {
   "cell_type": "code",
   "execution_count": 9,
   "metadata": {},
   "outputs": [
    {
     "name": "stdout",
     "output_type": "stream",
     "text": [
      "unnormalized tau [[0.02 0.03 0.   0.   0.   0.  ]]\n",
      "tau [[0.4 0.6 0.  0.  0.  0. ]]\n",
      "tf.Tensor([3.66874394], shape=(1,), dtype=float64)\n",
      "3.6687439405308693\n"
     ]
    }
   ],
   "source": [
    "from tensorflow.python.keras import backend as backend\n",
    "\n",
    "tau = [[1, 1, 0, 0, 0, 0]]\n",
    "tau = np.array(tau) * np.array(np.exp(y_pred))\n",
    "print ('unnormalized tau', tau)\n",
    "tau [0,:] /= np.sum(tau [0,:])\n",
    "print ('tau', tau)\n",
    "result = backend.categorical_crossentropy(tau, y_pred,from_logits=True)\n",
    "print (result)\n",
    "print (np.mean(result))"
   ]
  },
  {
   "cell_type": "markdown",
   "metadata": {},
   "source": [
    "### <font color='red'> Author: Sayed Kamaledin Ghiasi-Shrirazi <a href=\"http://profsite.um.ac.ir/~k.ghiasi\">(http://profsite.um.ac.ir/~k.ghiasi)</a> </font>"
   ]
  }
 ],
 "metadata": {
  "kernelspec": {
   "display_name": "Python 3",
   "language": "python",
   "name": "python3"
  },
  "language_info": {
   "codemirror_mode": {
    "name": "ipython",
    "version": 3
   },
   "file_extension": ".py",
   "mimetype": "text/x-python",
   "name": "python",
   "nbconvert_exporter": "python",
   "pygments_lexer": "ipython3",
   "version": "3.8.5"
  }
 },
 "nbformat": 4,
 "nbformat_minor": 2
}
