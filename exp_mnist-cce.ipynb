{
 "cells": [
  {
   "cell_type": "markdown",
   "metadata": {},
   "source": [
    "## <font color='green'> <div align=\"center\">In the name of God </div></font>"
   ]
  },
  {
   "cell_type": "markdown",
   "metadata": {},
   "source": [
    "### <font color='red'> Author: Sayed Kamaledin Ghiasi-Shrirazi <a href=\"http://profsite.um.ac.ir/~k.ghiasi\">(http://profsite.um.ac.ir/~k.ghiasi)</a> </font>"
   ]
  },
  {
   "cell_type": "markdown",
   "metadata": {},
   "source": [
    "# Experiments on the MNIST dataset with CCE (Competitive Cross Entropy)"
   ]
  },
  {
   "cell_type": "markdown",
   "metadata": {},
   "source": [
    "### This is a python implementation of the *competitive cross entropy* algorithm introduced in the following paper:\n",
    "\n",
    "### Ghiasi-Shirazi, K. Competitive Cross-Entropy Loss: A Study on Training Single-Layer Neural Networks for Solving Nonlinearly Separable Classification Problems. Neural Process Lett 50, 1115–1122 (2019). https://doi.org/10.1007/s11063-018-9906-5"
   ]
  },
  {
   "cell_type": "markdown",
   "metadata": {},
   "source": [
    "##### Importing general modules."
   ]
  },
  {
   "cell_type": "code",
   "execution_count": null,
   "metadata": {},
   "outputs": [],
   "source": [
    "import numpy as np\n",
    "import matplotlib.pyplot as plt\n",
    "import sklearn.cluster\n",
    "import scipy.io as sio\n",
    "import time\n",
    "import matplotlib as mpl\n",
    "import os.path\n",
    "import pickle"
   ]
  },
  {
   "cell_type": "markdown",
   "metadata": {},
   "source": [
    "##### Importing modules wtitten by the author"
   ]
  },
  {
   "cell_type": "code",
   "execution_count": null,
   "metadata": {},
   "outputs": [],
   "source": [
    "from CCETrainingDataPreparation import TrainingData\n",
    "from CompetitiveCrossEntropy import CompetitiveCrossEntropy"
   ]
  },
  {
   "cell_type": "markdown",
   "metadata": {},
   "source": [
    "##### Preparing matplotlib to genrate high-quality images for the paper"
   ]
  },
  {
   "cell_type": "code",
   "execution_count": null,
   "metadata": {},
   "outputs": [],
   "source": [
    "%matplotlib inline\n",
    "mpl.rcParams['figure.dpi']= 600"
   ]
  },
  {
   "cell_type": "markdown",
   "metadata": {},
   "source": [
    "##### Set K=6 as in <a href=\"https://link.springer.com/article/10.1007/s11063-018-9906-5\">Competitive Cross-Entropy Paper.</a>"
   ]
  },
  {
   "cell_type": "code",
   "execution_count": null,
   "metadata": {},
   "outputs": [],
   "source": [
    "C  = 10\n",
    "K = 6\n",
    "maxVqIteration = 100\n",
    "L = C * K\n",
    "width = 28\n",
    "height = 28\n",
    "N = None\n",
    "NTest = None\n",
    "learning_rate = 0.01\n",
    "# note that the weight-decay is multiplied by learning rate\n",
    "weight_decay = 0.0001\n",
    "max_epochs = 50\n",
    "noise_std = 0\n",
    "lr_decay_mult  = 0.95\n",
    "exp_no = 1"
   ]
  },
  {
   "cell_type": "markdown",
   "metadata": {},
   "source": [
    "##### Load Training and Testing Data and Normalize them"
   ]
  },
  {
   "cell_type": "code",
   "execution_count": null,
   "metadata": {},
   "outputs": [],
   "source": [
    "XTrain = sio.loadmat ('./mnist/MnistTrainX')['MnistTrainX']\n",
    "yTrain = sio.loadmat ('./mnist/MnistTrainY')['MnistTrainY']\n",
    "XTrain = XTrain / 255.0\n",
    "if N:\n",
    "    XTrain = XTrain[:N,:]\n",
    "    yTrain = yTrain[:N]\n",
    "    \n",
    "XTest = sio.loadmat ('./mnist/MnistTestX')['MnistTestX']\n",
    "yTest = sio.loadmat ('./mnist/MnistTestY')['MnistTestY']\n",
    "XTest = XTest / 255.0\n",
    "\n",
    "if NTest:\n",
    "    XTest = XTest[:NTest,:]\n",
    "    yTest = yTest[:NTest]"
   ]
  },
  {
   "cell_type": "markdown",
   "metadata": {},
   "source": [
    "##### Prepare data"
   ]
  },
  {
   "cell_type": "code",
   "execution_count": null,
   "metadata": {},
   "outputs": [],
   "source": [
    "np.random.seed(1)\n",
    "td = TrainingData(XTrain, yTrain)\n",
    "filename = 'mnist_cce_clusters.pickle'\n",
    "if os.path.isfile(filename):\n",
    "    with open(filename, 'rb') as file:\n",
    "        subclassMeans = pickle.load(file)\n",
    "    td.setSubclasses(subclassMeans)\n",
    "else:\n",
    "    clusAlg = sklearn.cluster.KMeans()\n",
    "    clusAlg.max_iter = maxVqIteration\n",
    "    start = time.time()\n",
    "    td.findSubclasses(K, clusAlg)\n",
    "    end = time.time()\n",
    "    print ('Time for clustering: ', end - start)\n",
    "    with open(filename, 'wb') as file:\n",
    "        pickle.dump(td.subclassMeans, file)"
   ]
  },
  {
   "cell_type": "markdown",
   "metadata": {},
   "source": [
    "##### Show Clustering Result"
   ]
  },
  {
   "cell_type": "code",
   "execution_count": null,
   "metadata": {},
   "outputs": [],
   "source": [
    "img = np.ones ([1+K*(height+1), 1+td.C * (width+1),3])\n",
    "for c in range(td.C):\n",
    "    for k in range (td.K):\n",
    "        idx1 = k*(height+1)+1\n",
    "        idx2 = c*(width+1)+1\n",
    "        img[idx1:idx1+height, idx2:idx2+width,0] = td.subclassMeans[c*td.K+k].reshape ([height,width])\n",
    "        img[idx1:idx1+height, idx2:idx2+width,1] = img[idx1:idx1+height, idx2:idx2+width,0]\n",
    "        img[idx1:idx1+height, idx2:idx2+width,2] = img[idx1:idx1+height, idx2:idx2+width,0]\n",
    "plt.axis('off')\n",
    "plt.imshow (img)\n",
    "fn = 'mnist_clustering_cce_exp{}'.format(exp_no) + '.png'\n",
    "plt.imsave(fn, img)        \n",
    "plt.show()"
   ]
  },
  {
   "cell_type": "markdown",
   "metadata": {},
   "source": [
    "##### The function for performing an experiment. "
   ]
  },
  {
   "cell_type": "code",
   "execution_count": null,
   "metadata": {},
   "outputs": [],
   "source": [
    "class empty_class:\n",
    "    pass\n",
    "max_epochs_one = 1\n",
    "cce = CompetitiveCrossEntropy(td, learning_rate, lr_decay_mult, max_epochs_one, weight_decay, noise_std)\n",
    "\n",
    "start = time.time()\n",
    "if not os.path.exists('./pickle'):\n",
    "    os.mkdir('./pickle')\n",
    "if not os.path.exists('./png'):\n",
    "    os.mkdir('./png')    \n",
    "for epoch in range (max_epochs):\n",
    "    cce.fit()\n",
    "    filename = './pickle/cce-epoch-{}-exp-{}.pickle'.format(epoch, exp_no)\n",
    "    with open(filename, 'wb') as file:\n",
    "        cce_small = empty_class()\n",
    "        cce_small.W = cce.W\n",
    "        cce_small.b = cce.b\n",
    "        pickle.dump(cce_small, file)\n",
    "    yHat = cce.classifyByMaxClassifier(XTest)\n",
    "    yHat = np.array(yHat, dtype='int')\n",
    "    outVal = sklearn.metrics.accuracy_score(yTest, yHat)\n",
    "    print('Test classification accuracy: ' + str(outVal))\n",
    "    img = cce.GenerateImagesOfWeights(width, height, color = 'gray', n_images=1, rows=K, cols = C, eps=0.1)\n",
    "    plt.axis('off')\n",
    "    plt.imshow (img[0])\n",
    "    fn = './png/mnist_cce_epoch_{}_acc_{}_exp_{}'.format(epoch, outVal,exp_no) + '.png'\n",
    "    plt.imsave(fn, img[0])       \n",
    "    plt.show()    \n",
    "    \n",
    "end = time.time()\n",
    "print ('cca.fit took time: ', end - start)"
   ]
  },
  {
   "cell_type": "markdown",
   "metadata": {},
   "source": [
    "### <font color='red'> Author: Sayed Kamaledin Ghiasi-Shrirazi <a href=\"http://profsite.um.ac.ir/~k.ghiasi\">(http://profsite.um.ac.ir/~k.ghiasi)</a> </font>"
   ]
  }
 ],
 "metadata": {
  "celltoolbar": "Raw Cell Format",
  "kernelspec": {
   "display_name": "Python 3",
   "language": "python",
   "name": "python3"
  },
  "language_info": {
   "codemirror_mode": {
    "name": "ipython",
    "version": 3
   },
   "file_extension": ".py",
   "mimetype": "text/x-python",
   "name": "python",
   "nbconvert_exporter": "python",
   "pygments_lexer": "ipython3",
   "version": "3.8.5"
  }
 },
 "nbformat": 4,
 "nbformat_minor": 2
}
